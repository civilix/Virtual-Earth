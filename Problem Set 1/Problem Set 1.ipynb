{
 "cells": [
  {
   "cell_type": "markdown",
   "id": "862f7c67",
   "metadata": {},
   "source": [
    "# 1"
   ]
  },
  {
   "cell_type": "markdown",
   "id": "f1460fbf",
   "metadata": {},
   "source": [
    "* **Row view**\n",
    "\n",
    "  $$\n",
    "    2x - y + 2z = 6,\\quad\n",
    "    4x + 3y - 7z = -11,\\quad\n",
    "    x + y - 3z = -6\n",
    "  $$\n",
    "* **Column view**\n",
    "\n",
    "  $$\n",
    "    x\\begin{pmatrix}2\\\\4\\\\1\\end{pmatrix}\n",
    "    + y\\begin{pmatrix}-1\\\\3\\\\1\\end{pmatrix}\n",
    "    + z\\begin{pmatrix}2\\\\-7\\\\-3\\end{pmatrix}\n",
    "    = \\begin{pmatrix}6\\\\-11\\\\-6\\end{pmatrix}.\n",
    "  $$\n",
    "\n",
    "---\n",
    "\n",
    "**Matrix**\n",
    "\n",
    "$$\n",
    "A = \\begin{pmatrix}\n",
    "2 & -1 & 2\\\\\n",
    "4 &  3 & -7\\\\\n",
    "1 &  1 & -3\n",
    "\\end{pmatrix},\\quad\n",
    "\\mathbf{x} = \\begin{pmatrix}x\\\\y\\\\z\\end{pmatrix},\\quad\n",
    "\\mathbf{b} = \\begin{pmatrix}6\\\\-11\\\\-6\\end{pmatrix}.\n",
    "$$\n",
    "\n",
    "---\n",
    "\n",
    "**(c) Gaussian elimination**\n",
    "\n",
    "```text\n",
    "[ 2  -1   2 |   6 ]\n",
    "[ 4   3  -7 | -11 ]\n",
    "[ 1   1  -3 |  -6 ]\n",
    "```\n",
    "\n",
    "$l_{21}=2$:\n",
    "\n",
    "   ```text\n",
    "   [ 0   5  -11 | -23 ]\n",
    "   ```\n",
    "$l_{31}=0.5$:\n",
    "\n",
    "   ```text\n",
    "   [ 0  1.5  -4 |  -9 ]\n",
    "   ```\n",
    "$l_{32}=0.3$:\n",
    "\n",
    "   ```text\n",
    "   [ 0   0  -0.7 |  -2.1 ]\n",
    "   ```\n",
    "\n",
    "$\\,(x,y,z)=(1,2,3)$.\n",
    "\n",
    "---\n",
    "\n",
    "**Elimination matrices**\n",
    "\n",
    "$$\n",
    "E_{21} = \\begin{pmatrix}\n",
    "1 & 0 & 0\\\\\n",
    "-2& 1 & 0\\\\\n",
    "0 & 0 & 1\n",
    "\\end{pmatrix},\\quad\n",
    "E_{31} = \\begin{pmatrix}\n",
    "1 & 0 & 0\\\\\n",
    "0 & 1 & 0\\\\\n",
    "-0.5&0 & 1\n",
    "\\end{pmatrix},\\quad\n",
    "E_{32} = \\begin{pmatrix}\n",
    "1 & 0   & 0\\\\\n",
    "0 & 1   & 0\\\\\n",
    "0 & -0.3& 1\n",
    "\\end{pmatrix}.\n",
    "$$\n",
    "---\n",
    "\n",
    "**LU**\n",
    "$$\n",
    "L = \\begin{pmatrix}\n",
    "1   & 0   & 0\\\\\n",
    "2   & 1   & 0\\\\\n",
    "0.5 & 0.3 & 1\n",
    "\\end{pmatrix},\\qquad\n",
    "U = \\begin{pmatrix}\n",
    "2 & -1  &  2\\\\\n",
    "0 &  5  & -11\\\\\n",
    "0 &  0  & -0.7\n",
    "\\end{pmatrix},\n",
    "$$\n",
    "\n",
    "---\n",
    "\n",
    "**$\\mathbf{b}' = (6,11,2)^T$**\n",
    "\n",
    "\n",
    "   $$\n",
    "   \\begin{cases}\n",
    "     y_1 = 6,\\\\\n",
    "     y_2 = 11 - 2\\cdot y_1 = 11 - 12 = -1,\\\\\n",
    "     y_3 = 2 - 0.5\\cdot6 - 0.3\\cdot(-1) = -0.7.\n",
    "   \\end{cases}\n",
    "   $$\n",
    "\n",
    "   $$\n",
    "   \\begin{cases}\n",
    "     -0.7\\,z = -0.7 \\implies z=1,\\\\\n",
    "     5\\,y -11\\,z = -1 \\implies y=2,\\\\\n",
    "     2\\,x - y +2\\,z = 6 \\implies x=3.\n",
    "   \\end{cases}\n",
    "   $$\n",
    "\n",
    "$\\,(x,y,z)=(3,2,1)$.\n"
   ]
  },
  {
   "cell_type": "markdown",
   "id": "e397c4af",
   "metadata": {},
   "source": [
    "## 2"
   ]
  },
  {
   "cell_type": "code",
   "execution_count": null,
   "id": "0cd1b9cd",
   "metadata": {},
   "outputs": [
    {
     "data": {
      "application/vnd.plotly.v1+json": {
       "config": {
        "plotlyServerURL": "https://plot.ly"
       },
       "data": [
        {
         "mode": "lines",
         "name": "Cost",
         "type": "scatter",
         "x": [
          0,
          1,
          2,
          3,
          4,
          5,
          6,
          7,
          8,
          9,
          10,
          11,
          12,
          13,
          14,
          15,
          16,
          17,
          18,
          19,
          20,
          21,
          22,
          23,
          24,
          25,
          26,
          27,
          28,
          29,
          30,
          31,
          32,
          33,
          34,
          35,
          36,
          37,
          38,
          39,
          40,
          41,
          42,
          43,
          44,
          45,
          46,
          47,
          48,
          49,
          50,
          51,
          52,
          53,
          54,
          55,
          56,
          57,
          58,
          59,
          60,
          61,
          62,
          63,
          64,
          65,
          66,
          67,
          68,
          69,
          70,
          71,
          72,
          73,
          74,
          75,
          76,
          77,
          78,
          79,
          80,
          81,
          82,
          83,
          84,
          85,
          86,
          87,
          88,
          89,
          90,
          91,
          92,
          93,
          94,
          95,
          96,
          97,
          98,
          99
         ],
         "y": [
          0,
          1,
          5,
          14,
          30,
          55,
          91,
          140,
          204,
          285,
          385,
          506,
          650,
          819,
          1015,
          1240,
          1496,
          1785,
          2109,
          2470,
          2870,
          3311,
          3795,
          4324,
          4900,
          5525,
          6201,
          6930,
          7714,
          8555,
          9455,
          10416,
          11440,
          12529,
          13685,
          14910,
          16206,
          17575,
          19019,
          20540,
          22140,
          23821,
          25585,
          27434,
          29370,
          31395,
          33511,
          35720,
          38024,
          40425,
          42925,
          45526,
          48230,
          51039,
          53955,
          56980,
          60116,
          63365,
          66729,
          70210,
          73810,
          77531,
          81375,
          85344,
          89440,
          93665,
          98021,
          102510,
          107134,
          111895,
          116795,
          121836,
          127020,
          132349,
          137825,
          143450,
          149226,
          155155,
          161239,
          167480,
          173880,
          180441,
          187165,
          194054,
          201110,
          208335,
          215731,
          223300,
          231044,
          238965,
          247065,
          255346,
          263810,
          272459,
          281295,
          290320,
          299536,
          308945,
          318549,
          328350
         ]
        }
       ],
       "layout": {
        "template": {
         "data": {
          "bar": [
           {
            "error_x": {
             "color": "#2a3f5f"
            },
            "error_y": {
             "color": "#2a3f5f"
            },
            "marker": {
             "line": {
              "color": "#E5ECF6",
              "width": 0.5
             },
             "pattern": {
              "fillmode": "overlay",
              "size": 10,
              "solidity": 0.2
             }
            },
            "type": "bar"
           }
          ],
          "barpolar": [
           {
            "marker": {
             "line": {
              "color": "#E5ECF6",
              "width": 0.5
             },
             "pattern": {
              "fillmode": "overlay",
              "size": 10,
              "solidity": 0.2
             }
            },
            "type": "barpolar"
           }
          ],
          "carpet": [
           {
            "aaxis": {
             "endlinecolor": "#2a3f5f",
             "gridcolor": "white",
             "linecolor": "white",
             "minorgridcolor": "white",
             "startlinecolor": "#2a3f5f"
            },
            "baxis": {
             "endlinecolor": "#2a3f5f",
             "gridcolor": "white",
             "linecolor": "white",
             "minorgridcolor": "white",
             "startlinecolor": "#2a3f5f"
            },
            "type": "carpet"
           }
          ],
          "choropleth": [
           {
            "colorbar": {
             "outlinewidth": 0,
             "ticks": ""
            },
            "type": "choropleth"
           }
          ],
          "contour": [
           {
            "colorbar": {
             "outlinewidth": 0,
             "ticks": ""
            },
            "colorscale": [
             [
              0,
              "#0d0887"
             ],
             [
              0.1111111111111111,
              "#46039f"
             ],
             [
              0.2222222222222222,
              "#7201a8"
             ],
             [
              0.3333333333333333,
              "#9c179e"
             ],
             [
              0.4444444444444444,
              "#bd3786"
             ],
             [
              0.5555555555555556,
              "#d8576b"
             ],
             [
              0.6666666666666666,
              "#ed7953"
             ],
             [
              0.7777777777777778,
              "#fb9f3a"
             ],
             [
              0.8888888888888888,
              "#fdca26"
             ],
             [
              1,
              "#f0f921"
             ]
            ],
            "type": "contour"
           }
          ],
          "contourcarpet": [
           {
            "colorbar": {
             "outlinewidth": 0,
             "ticks": ""
            },
            "type": "contourcarpet"
           }
          ],
          "heatmap": [
           {
            "colorbar": {
             "outlinewidth": 0,
             "ticks": ""
            },
            "colorscale": [
             [
              0,
              "#0d0887"
             ],
             [
              0.1111111111111111,
              "#46039f"
             ],
             [
              0.2222222222222222,
              "#7201a8"
             ],
             [
              0.3333333333333333,
              "#9c179e"
             ],
             [
              0.4444444444444444,
              "#bd3786"
             ],
             [
              0.5555555555555556,
              "#d8576b"
             ],
             [
              0.6666666666666666,
              "#ed7953"
             ],
             [
              0.7777777777777778,
              "#fb9f3a"
             ],
             [
              0.8888888888888888,
              "#fdca26"
             ],
             [
              1,
              "#f0f921"
             ]
            ],
            "type": "heatmap"
           }
          ],
          "histogram": [
           {
            "marker": {
             "pattern": {
              "fillmode": "overlay",
              "size": 10,
              "solidity": 0.2
             }
            },
            "type": "histogram"
           }
          ],
          "histogram2d": [
           {
            "colorbar": {
             "outlinewidth": 0,
             "ticks": ""
            },
            "colorscale": [
             [
              0,
              "#0d0887"
             ],
             [
              0.1111111111111111,
              "#46039f"
             ],
             [
              0.2222222222222222,
              "#7201a8"
             ],
             [
              0.3333333333333333,
              "#9c179e"
             ],
             [
              0.4444444444444444,
              "#bd3786"
             ],
             [
              0.5555555555555556,
              "#d8576b"
             ],
             [
              0.6666666666666666,
              "#ed7953"
             ],
             [
              0.7777777777777778,
              "#fb9f3a"
             ],
             [
              0.8888888888888888,
              "#fdca26"
             ],
             [
              1,
              "#f0f921"
             ]
            ],
            "type": "histogram2d"
           }
          ],
          "histogram2dcontour": [
           {
            "colorbar": {
             "outlinewidth": 0,
             "ticks": ""
            },
            "colorscale": [
             [
              0,
              "#0d0887"
             ],
             [
              0.1111111111111111,
              "#46039f"
             ],
             [
              0.2222222222222222,
              "#7201a8"
             ],
             [
              0.3333333333333333,
              "#9c179e"
             ],
             [
              0.4444444444444444,
              "#bd3786"
             ],
             [
              0.5555555555555556,
              "#d8576b"
             ],
             [
              0.6666666666666666,
              "#ed7953"
             ],
             [
              0.7777777777777778,
              "#fb9f3a"
             ],
             [
              0.8888888888888888,
              "#fdca26"
             ],
             [
              1,
              "#f0f921"
             ]
            ],
            "type": "histogram2dcontour"
           }
          ],
          "mesh3d": [
           {
            "colorbar": {
             "outlinewidth": 0,
             "ticks": ""
            },
            "type": "mesh3d"
           }
          ],
          "parcoords": [
           {
            "line": {
             "colorbar": {
              "outlinewidth": 0,
              "ticks": ""
             }
            },
            "type": "parcoords"
           }
          ],
          "pie": [
           {
            "automargin": true,
            "type": "pie"
           }
          ],
          "scatter": [
           {
            "fillpattern": {
             "fillmode": "overlay",
             "size": 10,
             "solidity": 0.2
            },
            "type": "scatter"
           }
          ],
          "scatter3d": [
           {
            "line": {
             "colorbar": {
              "outlinewidth": 0,
              "ticks": ""
             }
            },
            "marker": {
             "colorbar": {
              "outlinewidth": 0,
              "ticks": ""
             }
            },
            "type": "scatter3d"
           }
          ],
          "scattercarpet": [
           {
            "marker": {
             "colorbar": {
              "outlinewidth": 0,
              "ticks": ""
             }
            },
            "type": "scattercarpet"
           }
          ],
          "scattergeo": [
           {
            "marker": {
             "colorbar": {
              "outlinewidth": 0,
              "ticks": ""
             }
            },
            "type": "scattergeo"
           }
          ],
          "scattergl": [
           {
            "marker": {
             "colorbar": {
              "outlinewidth": 0,
              "ticks": ""
             }
            },
            "type": "scattergl"
           }
          ],
          "scattermap": [
           {
            "marker": {
             "colorbar": {
              "outlinewidth": 0,
              "ticks": ""
             }
            },
            "type": "scattermap"
           }
          ],
          "scattermapbox": [
           {
            "marker": {
             "colorbar": {
              "outlinewidth": 0,
              "ticks": ""
             }
            },
            "type": "scattermapbox"
           }
          ],
          "scatterpolar": [
           {
            "marker": {
             "colorbar": {
              "outlinewidth": 0,
              "ticks": ""
             }
            },
            "type": "scatterpolar"
           }
          ],
          "scatterpolargl": [
           {
            "marker": {
             "colorbar": {
              "outlinewidth": 0,
              "ticks": ""
             }
            },
            "type": "scatterpolargl"
           }
          ],
          "scatterternary": [
           {
            "marker": {
             "colorbar": {
              "outlinewidth": 0,
              "ticks": ""
             }
            },
            "type": "scatterternary"
           }
          ],
          "surface": [
           {
            "colorbar": {
             "outlinewidth": 0,
             "ticks": ""
            },
            "colorscale": [
             [
              0,
              "#0d0887"
             ],
             [
              0.1111111111111111,
              "#46039f"
             ],
             [
              0.2222222222222222,
              "#7201a8"
             ],
             [
              0.3333333333333333,
              "#9c179e"
             ],
             [
              0.4444444444444444,
              "#bd3786"
             ],
             [
              0.5555555555555556,
              "#d8576b"
             ],
             [
              0.6666666666666666,
              "#ed7953"
             ],
             [
              0.7777777777777778,
              "#fb9f3a"
             ],
             [
              0.8888888888888888,
              "#fdca26"
             ],
             [
              1,
              "#f0f921"
             ]
            ],
            "type": "surface"
           }
          ],
          "table": [
           {
            "cells": {
             "fill": {
              "color": "#EBF0F8"
             },
             "line": {
              "color": "white"
             }
            },
            "header": {
             "fill": {
              "color": "#C8D4E3"
             },
             "line": {
              "color": "white"
             }
            },
            "type": "table"
           }
          ]
         },
         "layout": {
          "annotationdefaults": {
           "arrowcolor": "#2a3f5f",
           "arrowhead": 0,
           "arrowwidth": 1
          },
          "autotypenumbers": "strict",
          "coloraxis": {
           "colorbar": {
            "outlinewidth": 0,
            "ticks": ""
           }
          },
          "colorscale": {
           "diverging": [
            [
             0,
             "#8e0152"
            ],
            [
             0.1,
             "#c51b7d"
            ],
            [
             0.2,
             "#de77ae"
            ],
            [
             0.3,
             "#f1b6da"
            ],
            [
             0.4,
             "#fde0ef"
            ],
            [
             0.5,
             "#f7f7f7"
            ],
            [
             0.6,
             "#e6f5d0"
            ],
            [
             0.7,
             "#b8e186"
            ],
            [
             0.8,
             "#7fbc41"
            ],
            [
             0.9,
             "#4d9221"
            ],
            [
             1,
             "#276419"
            ]
           ],
           "sequential": [
            [
             0,
             "#0d0887"
            ],
            [
             0.1111111111111111,
             "#46039f"
            ],
            [
             0.2222222222222222,
             "#7201a8"
            ],
            [
             0.3333333333333333,
             "#9c179e"
            ],
            [
             0.4444444444444444,
             "#bd3786"
            ],
            [
             0.5555555555555556,
             "#d8576b"
            ],
            [
             0.6666666666666666,
             "#ed7953"
            ],
            [
             0.7777777777777778,
             "#fb9f3a"
            ],
            [
             0.8888888888888888,
             "#fdca26"
            ],
            [
             1,
             "#f0f921"
            ]
           ],
           "sequentialminus": [
            [
             0,
             "#0d0887"
            ],
            [
             0.1111111111111111,
             "#46039f"
            ],
            [
             0.2222222222222222,
             "#7201a8"
            ],
            [
             0.3333333333333333,
             "#9c179e"
            ],
            [
             0.4444444444444444,
             "#bd3786"
            ],
            [
             0.5555555555555556,
             "#d8576b"
            ],
            [
             0.6666666666666666,
             "#ed7953"
            ],
            [
             0.7777777777777778,
             "#fb9f3a"
            ],
            [
             0.8888888888888888,
             "#fdca26"
            ],
            [
             1,
             "#f0f921"
            ]
           ]
          },
          "colorway": [
           "#636efa",
           "#EF553B",
           "#00cc96",
           "#ab63fa",
           "#FFA15A",
           "#19d3f3",
           "#FF6692",
           "#B6E880",
           "#FF97FF",
           "#FECB52"
          ],
          "font": {
           "color": "#2a3f5f"
          },
          "geo": {
           "bgcolor": "white",
           "lakecolor": "white",
           "landcolor": "#E5ECF6",
           "showlakes": true,
           "showland": true,
           "subunitcolor": "white"
          },
          "hoverlabel": {
           "align": "left"
          },
          "hovermode": "closest",
          "mapbox": {
           "style": "light"
          },
          "paper_bgcolor": "white",
          "plot_bgcolor": "#E5ECF6",
          "polar": {
           "angularaxis": {
            "gridcolor": "white",
            "linecolor": "white",
            "ticks": ""
           },
           "bgcolor": "#E5ECF6",
           "radialaxis": {
            "gridcolor": "white",
            "linecolor": "white",
            "ticks": ""
           }
          },
          "scene": {
           "xaxis": {
            "backgroundcolor": "#E5ECF6",
            "gridcolor": "white",
            "gridwidth": 2,
            "linecolor": "white",
            "showbackground": true,
            "ticks": "",
            "zerolinecolor": "white"
           },
           "yaxis": {
            "backgroundcolor": "#E5ECF6",
            "gridcolor": "white",
            "gridwidth": 2,
            "linecolor": "white",
            "showbackground": true,
            "ticks": "",
            "zerolinecolor": "white"
           },
           "zaxis": {
            "backgroundcolor": "#E5ECF6",
            "gridcolor": "white",
            "gridwidth": 2,
            "linecolor": "white",
            "showbackground": true,
            "ticks": "",
            "zerolinecolor": "white"
           }
          },
          "shapedefaults": {
           "line": {
            "color": "#2a3f5f"
           }
          },
          "ternary": {
           "aaxis": {
            "gridcolor": "white",
            "linecolor": "white",
            "ticks": ""
           },
           "baxis": {
            "gridcolor": "white",
            "linecolor": "white",
            "ticks": ""
           },
           "bgcolor": "#E5ECF6",
           "caxis": {
            "gridcolor": "white",
            "linecolor": "white",
            "ticks": ""
           }
          },
          "title": {
           "x": 0.05
          },
          "xaxis": {
           "automargin": true,
           "gridcolor": "white",
           "linecolor": "white",
           "ticks": "",
           "title": {
            "standoff": 15
           },
           "zerolinecolor": "white",
           "zerolinewidth": 2
          },
          "yaxis": {
           "automargin": true,
           "gridcolor": "white",
           "linecolor": "white",
           "ticks": "",
           "title": {
            "standoff": 15
           },
           "zerolinecolor": "white",
           "zerolinewidth": 2
          }
         }
        },
        "title": {
         "text": "Computing Cost"
        },
        "xaxis": {
         "title": {
          "text": "X"
         }
        },
        "yaxis": {
         "title": {
          "text": "y"
         }
        }
       }
      }
     },
     "metadata": {},
     "output_type": "display_data"
    }
   ],
   "source": [
    "\n",
    "import plotly.graph_objects as go\n",
    "\n",
    "X = list(range(100)) \n",
    "y = [n*(n+1)*(2*n+1) // 6 for n in X]    \n",
    "\n",
    "fig = go.Figure()\n",
    "fig.add_trace(go.Scatter(x=X, y=y, mode='lines', name='Cost'))\n",
    "\n",
    "fig.update_layout(title='Computing Cost',\n",
    "                  xaxis_title='X',\n",
    "                  yaxis_title='y')\n",
    "\n",
    "fig.show()"
   ]
  },
  {
   "cell_type": "markdown",
   "id": "f8b71a6a",
   "metadata": {},
   "source": [
    "# 3"
   ]
  },
  {
   "cell_type": "markdown",
   "id": "f69a2eeb",
   "metadata": {},
   "source": [
    "```\n",
    "format long\n",
    "s = 0;\n",
    "for k = 1:100000\n",
    "    s = s + 0.00001;\n",
    "end\n",
    "err = 1 - s;\n",
    "```\n",
    "1.916244940503020e-12"
   ]
  },
  {
   "cell_type": "markdown",
   "id": "01378bd4",
   "metadata": {},
   "source": [
    "# 4"
   ]
  },
  {
   "cell_type": "markdown",
   "id": "745e5748",
   "metadata": {},
   "source": [
    "\n",
    "```text\n",
    "[ −0.0020   4.0000   4.0000  |   7.9980 ]\n",
    "[ −2.0000   2.9060  −5.3870  |  −4.4810 ]\n",
    "[  3.0000  −4.0310  −3.1120  |  −4.1430 ]\n",
    "```\n",
    "$l_{21}=1000.0000$:\n",
    "   ```text\n",
    "[ −0.0020   4.0000      4.0000     |   7.9980    ]\n",
    "[  0.0000  −3997.0940  −4005.3870  |  −8002.4810 ]\n",
    "[  3.0000  −4.0310      −3.1120    |  −4.1430    ]\n",
    "   ```\n",
    "$l_{31}=−1500.0000$:\n",
    "   ```text\n",
    "[ −0.0020   4.0000       4.0000    |    7.9980   ]\n",
    "[  0.0000  −3997.0940  −4005.3870  |  −8002.4810 ]\n",
    "[  0.0000   5995.9690   5996.8880  |   11992.8570 ]\n",
    "   ```\n",
    "$l_{32}=−1.5001$:\n",
    "   ```text\n",
    "[ −0.0020     4.0000     4.0000   |    7.9980   ]\n",
    "[  0.0000  −3997.0940  −4005.3870 |  −8002.4810 ]\n",
    "[  0.0000     −0.0717   −11.5930  |   −11.6647  ]\n",
    "   ```\n",
    "$\\,(x,y,z)=（1.0000 ，0.9938 ，1.0062)$.\n"
   ]
  },
  {
   "cell_type": "markdown",
   "id": "37b2899e",
   "metadata": {},
   "source": [
    "## pivoting"
   ]
  },
  {
   "cell_type": "markdown",
   "id": "313c6824",
   "metadata": {},
   "source": [
    "\n",
    "```text\n",
    "[  3.0000  -4.0310  -3.1120  |  -4.1430 ]\n",
    "[ -0.0020   4.0000   4.0000  |   7.9980 ]\n",
    "[ -2.0000   2.9060  -5.3870  |  -4.4810 ]\n",
    "```\n",
    "$l_{21}=-0.0007$:\n",
    "   ```text\n",
    "[  3.0000  -4.0310  -3.1120  |  -4.1430 ]\n",
    "[  0.0001   3.9972   3.9978  |   7.9951 ]\n",
    "[ -2.0000   2.9060  -5.3870  |  -4.4810 ]\n",
    "   ```\n",
    "$l_{31}=-0.6667$:\n",
    "   ```text\n",
    "[  3.0000  -4.0310  -3.1120  |  -4.1430 ]\n",
    "[  0.0001   3.9972   3.9978  |   7.9951 ]\n",
    "[  0.0001   0.2187  -7.4617  |  -7.2430 ]\n",
    "   ```\n",
    "$l_{32}=0.0547$:\n",
    "   ```text\n",
    "[  3.0000  -4.0310  -3.1120  |  -4.1430 ]\n",
    "[  0.0001   3.9972   3.9978  |   7.9951 ]\n",
    "[  0.0001   0.0001  -7.6804  |  -7.6803 ]\n",
    "   ```\n",
    "$(x,y,z)=(1.0000,1.0000,1.0000)$."
   ]
  },
  {
   "cell_type": "markdown",
   "id": "39918a3a",
   "metadata": {},
   "source": [
    "# 5"
   ]
  },
  {
   "cell_type": "markdown",
   "id": "5c73fd10",
   "metadata": {},
   "source": [
    "```\n",
    "A = [1.01, 0.99;\n",
    "     0.99, 1.01];\n",
    "b0 = [2.00; 2.00];\n",
    "x0 = A \\ b0;\n",
    "\n",
    "b1 = [2.02; 1.98];\n",
    "x1 = A \\ b1;\n",
    "\n",
    "b2 = [1.98; 2.02];\n",
    "x2 = A \\ b2;\n",
    "```\n",
    "x0 = [1;1]\n",
    "\n",
    "x1 = [2;0]\n",
    "\n",
    "x2 = [0;2]"
   ]
  }
 ],
 "metadata": {
  "kernelspec": {
   "display_name": "virtual_earth",
   "language": "python",
   "name": "python3"
  },
  "language_info": {
   "codemirror_mode": {
    "name": "ipython",
    "version": 3
   },
   "file_extension": ".py",
   "mimetype": "text/x-python",
   "name": "python",
   "nbconvert_exporter": "python",
   "pygments_lexer": "ipython3",
   "version": "3.13.2"
  }
 },
 "nbformat": 4,
 "nbformat_minor": 5
}
