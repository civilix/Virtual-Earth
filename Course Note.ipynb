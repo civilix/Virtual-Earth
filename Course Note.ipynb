{
 "cells": [
  {
   "cell_type": "code",
   "execution_count": 3,
   "id": "a0313f1e",
   "metadata": {},
   "outputs": [],
   "source": [
    "import numpy as np"
   ]
  },
  {
   "cell_type": "markdown",
   "id": "ce7930d5",
   "metadata": {},
   "source": [
    "# Week 2"
   ]
  },
  {
   "cell_type": "markdown",
   "id": "1d3a442e",
   "metadata": {},
   "source": [
    "## Matrix"
   ]
  },
  {
   "cell_type": "markdown",
   "id": "4f9dc472",
   "metadata": {},
   "source": [
    "### Dense Matrix & Sparse Matrix CSR, CSC, COO"
   ]
  },
  {
   "cell_type": "code",
   "execution_count": 4,
   "id": "bbdecac7",
   "metadata": {},
   "outputs": [
    {
     "ename": "ModuleNotFoundError",
     "evalue": "No module named 'scipy'",
     "output_type": "error",
     "traceback": [
      "\u001b[31m---------------------------------------------------------------------------\u001b[39m",
      "\u001b[31mModuleNotFoundError\u001b[39m                       Traceback (most recent call last)",
      "\u001b[36mCell\u001b[39m\u001b[36m \u001b[39m\u001b[32mIn[4]\u001b[39m\u001b[32m, line 1\u001b[39m\n\u001b[32m----> \u001b[39m\u001b[32m1\u001b[39m \u001b[38;5;28;01mfrom\u001b[39;00m\u001b[38;5;250m \u001b[39m\u001b[34;01mscipy\u001b[39;00m\u001b[34;01m.\u001b[39;00m\u001b[34;01msparse\u001b[39;00m\u001b[38;5;250m \u001b[39m\u001b[38;5;28;01mimport\u001b[39;00m coo_matrix, csr_matrix, csc_matrix\n",
      "\u001b[31mModuleNotFoundError\u001b[39m: No module named 'scipy'"
     ]
    }
   ],
   "source": [
    "from scipy.sparse import coo_matrix, csr_matrix, csc_matrix"
   ]
  },
  {
   "cell_type": "markdown",
   "id": "8c92c436",
   "metadata": {},
   "source": [
    "### Identity Matrix"
   ]
  },
  {
   "cell_type": "code",
   "execution_count": null,
   "id": "d26fddae",
   "metadata": {},
   "outputs": [
    {
     "name": "stdout",
     "output_type": "stream",
     "text": [
      "  (np.int32(0), np.int32(0))\t1.0\n",
      "  (np.int32(1), np.int32(1))\t1.0\n",
      "  (np.int32(2), np.int32(2))\t1.0\n"
     ]
    }
   ],
   "source": [
    "from scipy.sparse import eye\n",
    "I = eye(3, format='csr')\n",
    "print(I)"
   ]
  },
  {
   "cell_type": "markdown",
   "id": "e990d293",
   "metadata": {},
   "source": [
    "### allclose"
   ]
  },
  {
   "cell_type": "code",
   "execution_count": null,
   "id": "8840047f",
   "metadata": {},
   "outputs": [],
   "source": [
    "A = np.array([[1, 0, 0], [0, 2, 0], [0, 0, 3]])\n",
    "B = np.array([[3, 0, 0], [0, 2, 0], [0, 0, 1]])\n",
    "np.allclose(np.dot(A, B), np.dot(B, A))"
   ]
  },
  {
   "cell_type": "code",
   "execution_count": null,
   "id": "83f7b58d",
   "metadata": {},
   "outputs": [
    {
     "data": {
      "text/plain": [
       "True"
      ]
     },
     "execution_count": 5,
     "metadata": {},
     "output_type": "execute_result"
    }
   ],
   "source": [
    "np.allclose(A*B, B*A)"
   ]
  },
  {
   "cell_type": "markdown",
   "id": "9ee1796d",
   "metadata": {},
   "source": [
    "#### Gauss Elimination"
   ]
  },
  {
   "cell_type": "code",
   "execution_count": null,
   "id": "1cd3af2e",
   "metadata": {},
   "outputs": [],
   "source": [
    "\"\"\"\n",
    "Two steps of Gauss Elimination:\n",
    "1. Get upper triangle matrix\n",
    "2. Back substitution\n",
    "\"\"\""
   ]
  },
  {
   "cell_type": "markdown",
   "id": "f7983017",
   "metadata": {},
   "source": [
    "### Linear Algebra"
   ]
  },
  {
   "cell_type": "code",
   "execution_count": null,
   "id": "9c987af9",
   "metadata": {},
   "outputs": [
    {
     "ename": "LinAlgError",
     "evalue": "Matrix is singular.",
     "output_type": "error",
     "traceback": [
      "\u001b[0;31m---------------------------------------------------------------------------\u001b[0m",
      "\u001b[0;31mLinAlgError\u001b[0m                               Traceback (most recent call last)",
      "Cell \u001b[0;32mIn[8], line 15\u001b[0m\n\u001b[1;32m      9\u001b[0m A \u001b[38;5;241m=\u001b[39m np\u001b[38;5;241m.\u001b[39marray([[\u001b[38;5;241m1\u001b[39m, \u001b[38;5;241m1\u001b[39m, \u001b[38;5;241m1\u001b[39m],\n\u001b[1;32m     10\u001b[0m               [\u001b[38;5;241m1\u001b[39m, \u001b[38;5;241m1\u001b[39m, \u001b[38;5;241m-\u001b[39m\u001b[38;5;241m1\u001b[39m],\n\u001b[1;32m     11\u001b[0m               [\u001b[38;5;241m-\u001b[39m\u001b[38;5;241m1\u001b[39m, \u001b[38;5;241m-\u001b[39m\u001b[38;5;241m1\u001b[39m, \u001b[38;5;241m0\u001b[39m]])\n\u001b[1;32m     13\u001b[0m b \u001b[38;5;241m=\u001b[39m np\u001b[38;5;241m.\u001b[39marray([\u001b[38;5;241m7\u001b[39m, \u001b[38;5;241m5\u001b[39m, \u001b[38;5;241m3\u001b[39m])\n\u001b[0;32m---> 15\u001b[0m x \u001b[38;5;241m=\u001b[39m \u001b[43msolve\u001b[49m\u001b[43m(\u001b[49m\u001b[43mA\u001b[49m\u001b[43m,\u001b[49m\u001b[43m \u001b[49m\u001b[43mb\u001b[49m\u001b[43m)\u001b[49m\n\u001b[1;32m     16\u001b[0m \u001b[38;5;28mprint\u001b[39m(x)\n",
      "File \u001b[0;32m/opt/homebrew/Caskroom/miniconda/base/envs/kaggle/lib/python3.9/site-packages/scipy/linalg/_basic.py:219\u001b[0m, in \u001b[0;36msolve\u001b[0;34m(a, b, lower, overwrite_a, overwrite_b, check_finite, assume_a, transposed)\u001b[0m\n\u001b[1;32m    216\u001b[0m gecon, getrf, getrs \u001b[38;5;241m=\u001b[39m get_lapack_funcs((\u001b[38;5;124m'\u001b[39m\u001b[38;5;124mgecon\u001b[39m\u001b[38;5;124m'\u001b[39m, \u001b[38;5;124m'\u001b[39m\u001b[38;5;124mgetrf\u001b[39m\u001b[38;5;124m'\u001b[39m, \u001b[38;5;124m'\u001b[39m\u001b[38;5;124mgetrs\u001b[39m\u001b[38;5;124m'\u001b[39m),\n\u001b[1;32m    217\u001b[0m                                        (a1, b1))\n\u001b[1;32m    218\u001b[0m lu, ipvt, info \u001b[38;5;241m=\u001b[39m getrf(a1, overwrite_a\u001b[38;5;241m=\u001b[39moverwrite_a)\n\u001b[0;32m--> 219\u001b[0m \u001b[43m_solve_check\u001b[49m\u001b[43m(\u001b[49m\u001b[43mn\u001b[49m\u001b[43m,\u001b[49m\u001b[43m \u001b[49m\u001b[43minfo\u001b[49m\u001b[43m)\u001b[49m\n\u001b[1;32m    220\u001b[0m x, info \u001b[38;5;241m=\u001b[39m getrs(lu, ipvt, b1,\n\u001b[1;32m    221\u001b[0m                 trans\u001b[38;5;241m=\u001b[39mtrans, overwrite_b\u001b[38;5;241m=\u001b[39moverwrite_b)\n\u001b[1;32m    222\u001b[0m _solve_check(n, info)\n",
      "File \u001b[0;32m/opt/homebrew/Caskroom/miniconda/base/envs/kaggle/lib/python3.9/site-packages/scipy/linalg/_basic.py:41\u001b[0m, in \u001b[0;36m_solve_check\u001b[0;34m(n, info, lamch, rcond)\u001b[0m\n\u001b[1;32m     39\u001b[0m     \u001b[38;5;28;01mraise\u001b[39;00m \u001b[38;5;167;01mValueError\u001b[39;00m(\u001b[38;5;124mf\u001b[39m\u001b[38;5;124m'\u001b[39m\u001b[38;5;124mLAPACK reported an illegal value in \u001b[39m\u001b[38;5;132;01m{\u001b[39;00m\u001b[38;5;241m-\u001b[39minfo\u001b[38;5;132;01m}\u001b[39;00m\u001b[38;5;124m-th argument.\u001b[39m\u001b[38;5;124m'\u001b[39m)\n\u001b[1;32m     40\u001b[0m \u001b[38;5;28;01melif\u001b[39;00m \u001b[38;5;241m0\u001b[39m \u001b[38;5;241m<\u001b[39m info:\n\u001b[0;32m---> 41\u001b[0m     \u001b[38;5;28;01mraise\u001b[39;00m LinAlgError(\u001b[38;5;124m'\u001b[39m\u001b[38;5;124mMatrix is singular.\u001b[39m\u001b[38;5;124m'\u001b[39m)\n\u001b[1;32m     43\u001b[0m \u001b[38;5;28;01mif\u001b[39;00m lamch \u001b[38;5;129;01mis\u001b[39;00m \u001b[38;5;28;01mNone\u001b[39;00m:\n\u001b[1;32m     44\u001b[0m     \u001b[38;5;28;01mreturn\u001b[39;00m\n",
      "\u001b[0;31mLinAlgError\u001b[0m: Matrix is singular."
     ]
    }
   ],
   "source": [
    "\"\"\"\n",
    "x+y+2=7\n",
    "x+y-z=5\n",
    "-x-y+x=3\n",
    "\"\"\"\n",
    "\n",
    "from scipy.linalg import solve\n",
    "\n",
    "A = np.array([[1, 1, 1],\n",
    "              [1, 1, -1],\n",
    "              [-1, -1, 0]])\n",
    "\n",
    "b = np.array([7, 5, 3])\n",
    "\n",
    "x = solve(A, b)\n",
    "print(x)"
   ]
  },
  {
   "cell_type": "markdown",
   "id": "8cff925c",
   "metadata": {},
   "source": [
    "### Elimination Matrix"
   ]
  },
  {
   "cell_type": "markdown",
   "id": "cbc7c9a3",
   "metadata": {},
   "source": [
    "### Augmented Matrix"
   ]
  },
  {
   "cell_type": "code",
   "execution_count": null,
   "id": "205543ef",
   "metadata": {},
   "outputs": [],
   "source": [
    "import numpy as np\n",
    "from numba import jit\n",
    "import time\n",
    "\n",
    "@jit\n",
    "def matrix_multiply(A, B):\n",
    "    a, b = A.shape\n",
    "    c, d = B.shape\n",
    "\n",
    "    C = np.zeros((a, d), dtype=A.dtype)\n",
    "\n",
    "    for i in range(a):\n",
    "        for j in range(d):\n",
    "            s = 0.0\n",
    "            for l in range(b):\n",
    "                s += A[i, l] * B[l, j]\n",
    "            C[i, j] = s\n",
    "\n",
    "    return C"
   ]
  },
  {
   "cell_type": "code",
   "execution_count": 2,
   "id": "8ed54d6f",
   "metadata": {},
   "outputs": [],
   "source": [
    "A = np.random.rand(999, 999)\n",
    "B = np.random.rand(999, 999)"
   ]
  },
  {
   "cell_type": "code",
   "execution_count": 3,
   "id": "1daaac0c",
   "metadata": {},
   "outputs": [
    {
     "name": "stdout",
     "output_type": "stream",
     "text": [
      "914 ms ± 18.4 ms per loop (mean ± std. dev. of 7 runs, 1 loop each)\n"
     ]
    }
   ],
   "source": [
    "%%timeit\n",
    "C_numba = matrix_multiply(A, B)"
   ]
  },
  {
   "cell_type": "code",
   "execution_count": 4,
   "id": "1d680947",
   "metadata": {},
   "outputs": [
    {
     "name": "stdout",
     "output_type": "stream",
     "text": [
      "25 ms ± 911 μs per loop (mean ± std. dev. of 7 runs, 10 loops each)\n"
     ]
    }
   ],
   "source": [
    "%%timeit\n",
    "C_numpy = A @ B"
   ]
  },
  {
   "cell_type": "markdown",
   "id": "3746c5ae",
   "metadata": {},
   "source": [
    "# Week 4"
   ]
  },
  {
   "cell_type": "markdown",
   "id": "4a43474c",
   "metadata": {},
   "source": [
    "## ODE"
   ]
  },
  {
   "cell_type": "markdown",
   "id": "29766058",
   "metadata": {},
   "source": [
    "https://docs.scipy.org/doc/scipy/reference/generated/scipy.integrate.solve_ivp.html"
   ]
  },
  {
   "cell_type": "code",
   "execution_count": 4,
   "id": "1b64b751",
   "metadata": {},
   "outputs": [
    {
     "data": {
      "image/png": "[encoded data removed]",
      "text/plain": [
       "<Figure size 640x480 with 1 Axes>"
      ]
     },
     "metadata": {},
     "output_type": "display_data"
    }
   ],
   "source": [
    "import numpy as np\n",
    "from scipy.integrate import solve_ivp\n",
    "import matplotlib.pyplot as plt\n",
    "\n",
    "# Define the differential equation\n",
    "def dydt(t, y):\n",
    "    return -2 * y\n",
    "\n",
    "# Time span and initial condition\n",
    "t_span = (0, 5)           # Time from 0 to 5\n",
    "y0 = [1]                  # Initial condition y(0) = 1\n",
    "\n",
    "# Solve the ODE\n",
    "solution = solve_ivp(dydt, t_span, y0, t_eval=np.linspace(0, 5, 100))\n",
    "\n",
    "# Plot the solution\n",
    "plt.plot(solution.t, solution.y[0])\n",
    "plt.xlabel('Time t')\n",
    "plt.ylabel('y(t)')\n",
    "plt.title('Solution of dy/dt = -2y')\n",
    "plt.grid(True)\n",
    "plt.show()"
   ]
  },
  {
   "cell_type": "markdown",
   "id": "c5fd81f7",
   "metadata": {},
   "source": []
  },
  {
   "cell_type": "markdown",
   "id": "943793ba",
   "metadata": {},
   "source": [
    "Euler's Method \n",
    "\n",
    "RK2\n",
    "\n",
    "RK4\n",
    "\n"
   ]
  },
  {
   "cell_type": "markdown",
   "id": "b75b8e6a",
   "metadata": {},
   "source": [
    "# Week 5"
   ]
  },
  {
   "cell_type": "markdown",
   "id": "7850741d",
   "metadata": {},
   "source": [
    "## Newton's Method\n",
    "\n",
    "Newton Step - Convvergence rate"
   ]
  },
  {
   "cell_type": "code",
   "execution_count": null,
   "id": "7e2f7fbf",
   "metadata": {},
   "outputs": [],
   "source": [
    "def newtown(f, x0, tol=1e-8, max_iter=100):\n",
    "    for i in range(max_iter):\n",
    "        fx = f(x0)\n",
    "        dfx = (f(x0 + tol) - f(x0)) / tol\n",
    "        x1 = x0 - fx / dfx\n",
    "        if abs(x1 - x0) < tol:\n",
    "            return x1\n",
    "        x0 = x1\n",
    "    raise ValueError(\"Fails to converge.\")"
   ]
  },
  {
   "cell_type": "markdown",
   "id": "9db74905",
   "metadata": {},
   "source": [
    "## Jacobian Matrix"
   ]
  },
  {
   "cell_type": "code",
   "execution_count": null,
   "id": "572ca526",
   "metadata": {},
   "outputs": [],
   "source": [
    "def multi_newton(F, J, x0, tol=1e-10, max_iter=100):\n",
    "    for i in range(max_iter):\n",
    "        fx = F(x0)\n",
    "        dfx = J(x0)\n",
    "        x1 = x0 - np.linalg.solve(dfx, fx)\n",
    "        if np.linalg.norm(x1 - x0) < tol:\n",
    "            return x1\n",
    "        x0 = x1\n",
    "    raise ValueError(\"Fails to converge.\")"
   ]
  },
  {
   "cell_type": "code",
   "execution_count": null,
   "id": "6e867533",
   "metadata": {},
   "outputs": [],
   "source": [
    "from collections import deque\n",
    "\n",
    "def solution(A, B):\n",
    "    N = len(A)\n",
    "    M = N + 1\n",
    "    in_degree  = [0] * M\n",
    "    out_degree = [0] * M\n",
    "    for u, v in zip(A, B):\n",
    "        out_degree[u] += 1\n",
    "        in_degree[v]  += 1\n",
    "    # Find Judge Method\n",
    "    potential = False\n",
    "    for city in range(M):\n",
    "        if out_degree[city] == 0:\n",
    "            if in_degree[city] == M - 1:\n",
    "                return city\n",
    "            if potential:\n",
    "                return -1\n",
    "            potential = city\n",
    "    if not potential:\n",
    "        return -1\n",
    "    # BFS\n",
    "    rev = [[] for _ in range(M)]\n",
    "    for u, v in zip(A, B):\n",
    "        rev[v].append(u)\n",
    "    seen = [False] * M\n",
    "    q = deque([potential])\n",
    "    seen[potential] = True\n",
    "    cnt = 1\n",
    "    while q:\n",
    "        v = q.popleft()\n",
    "        for w in rev[v]:\n",
    "            if not seen[w]:\n",
    "                seen[w] = True\n",
    "                cnt += 1\n",
    "                q.append(w)\n",
    "    return potential if cnt == M else -1"
   ]
  },
  {
   "cell_type": "markdown",
   "id": "38a8cd79",
   "metadata": {},
   "source": [
    "## PDE"
   ]
  },
  {
   "cell_type": "markdown",
   "id": "4625277f",
   "metadata": {},
   "source": [
    "### Difusion Euqation"
   ]
  },
  {
   "cell_type": "markdown",
   "id": "57e2b313",
   "metadata": {},
   "source": [
    "$$\n",
    "\\boxed{\\kappa = \\frac{k}{\\rho\\,c}\\quad\\bigl[\\mathrm{m}^2/\\mathrm{s}\\bigr]}\n",
    "$$"
   ]
  },
  {
   "cell_type": "markdown",
   "id": "42343e48",
   "metadata": {},
   "source": [
    "#### 1D Metal Bar"
   ]
  },
  {
   "cell_type": "markdown",
   "id": "6edc56d0",
   "metadata": {},
   "source": [
    "$$\n",
    "\\frac{\\partial T}{\\partial t} = \\kappa \\frac{\\partial^2 T}{\\partial x^2}\n",
    "$$\n"
   ]
  },
  {
   "cell_type": "markdown",
   "id": "c5667d1e",
   "metadata": {},
   "source": [
    "#### 3D Metal Cube\n",
    "$$\n",
    "\\frac{\\partial T}{\\partial t} = \\kappa \\left( \\frac{\\partial^2 T}{\\partial x^2} + \\frac{\\partial^2 T}{\\partial y^2} + \\frac{\\partial^2 T}{\\partial z^2} \\right) \n",
    "$$\n",
    "$$\n",
    "\\frac{\\partial T}{\\partial t} = \\kappa \\nabla^2 T\n",
    "$$\n",
    "$$\n",
    "\\nabla : Laplacion\n",
    "$$ \n"
   ]
  },
  {
   "cell_type": "markdown",
   "id": "077e1cb2",
   "metadata": {},
   "source": [
    "### FTCS"
   ]
  },
  {
   "cell_type": "markdown",
   "id": "9751430c",
   "metadata": {},
   "source": [
    "Central Differance\n",
    "$$\n",
    "T_i^{n+1} = T_i^n + r \\left( T_{i+1}^n - 2T_i^n + T_{i-1}^n \\right)\n",
    "$$\n",
    "\n",
    "$$\n",
    "accuracy =  \\mathcal{O}(\\Delta x^2)\n",
    "$$\n",
    "\n",
    "$$\n",
    "\\frac{\\partial T}{\\partial x} \\Big|{x_i} \\approx \\frac{T_{i+1} - 2T_i + T_{i-1}}{\\Delta x^2}\n",
    "$$"
   ]
  },
  {
   "cell_type": "markdown",
   "id": "7b1a3d24",
   "metadata": {},
   "source": [
    "second-order central difference Laplacian matrix\n",
    "$$\n",
    "\\mathbf{T} =\n",
    "\\begin{bmatrix}\n",
    "T_0 \\\\\n",
    "T_1 \\\\\n",
    "T_2 \\\\\n",
    "\\vdots \\\\\n",
    "T_{n-1}\n",
    "\\end{bmatrix}\n",
    "$$\n",
    "$$\n",
    "L =\n",
    "\\begin{bmatrix}\n",
    "-2 & 1 & 0 & \\cdots & 0 \\\\\n",
    "1 & -2 & 1 & \\cdots & 0 \\\\\n",
    "0 & 1 & -2 & \\cdots & 0 \\\\\n",
    "\\vdots & \\vdots & \\vdots & \\ddots & \\vdots \\\\\n",
    "0 & \\cdots & 0 & 1 & -2\n",
    "\\end{bmatrix},\n",
    "$$\n",
    "$$\n",
    "A = \\frac{\\kappa}{(\\Delta x)^2}\\;L.\n",
    "$$\n",
    "$$\n",
    "\n",
    "$$"
   ]
  },
  {
   "cell_type": "markdown",
   "id": "57bc0a4c",
   "metadata": {},
   "source": [
    "### Wave Equation"
   ]
  }
 ],
 "metadata": {
  "kernelspec": {
   "display_name": "virtual_earth",
   "language": "python",
   "name": "python3"
  },
  "language_info": {
   "codemirror_mode": {
    "name": "ipython",
    "version": 3
   },
   "file_extension": ".py",
   "mimetype": "text/x-python",
   "name": "python",
   "nbconvert_exporter": "python",
   "pygments_lexer": "ipython3",
   "version": "3.13.2"
  }
 },
 "nbformat": 4,
 "nbformat_minor": 5
}
